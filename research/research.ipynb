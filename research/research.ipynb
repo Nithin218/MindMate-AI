{
 "cells": [
  {
   "cell_type": "markdown",
   "metadata": {},
   "source": [
    "# MindMateAI Testings"
   ]
  },
  {
   "cell_type": "code",
   "execution_count": 1,
   "metadata": {},
   "outputs": [
    {
     "data": {
      "text/plain": [
       "'c:\\\\Users\\\\Administrator\\\\Desktop\\\\Likith_Nithin_Project\\\\MindMate-AI\\\\research'"
      ]
     },
     "execution_count": 1,
     "metadata": {},
     "output_type": "execute_result"
    }
   ],
   "source": [
    "import os\n",
    "%pwd"
   ]
  },
  {
   "cell_type": "code",
   "execution_count": 2,
   "metadata": {},
   "outputs": [],
   "source": [
    "os.chdir(\"../\")"
   ]
  },
  {
   "cell_type": "code",
   "execution_count": 3,
   "metadata": {},
   "outputs": [
    {
     "data": {
      "text/plain": [
       "'c:\\\\Users\\\\Administrator\\\\Desktop\\\\Likith_Nithin_Project\\\\MindMate-AI'"
      ]
     },
     "execution_count": 3,
     "metadata": {},
     "output_type": "execute_result"
    }
   ],
   "source": [
    "%pwd"
   ]
  },
  {
   "cell_type": "code",
   "execution_count": 6,
   "metadata": {},
   "outputs": [],
   "source": [
    "from langchain_groq import ChatGroq\n",
    "import os\n",
    "from dotenv import load_dotenv\n",
    "load_dotenv()\n",
    "os.environ[\"GROQ_API_KEY\"] = os.getenv(\"GROQ_API_KEY\")"
   ]
  },
  {
   "cell_type": "code",
   "execution_count": 7,
   "metadata": {},
   "outputs": [],
   "source": [
    "import os\n",
    "llm = ChatGroq(model=\"deepseek-r1-distill-llama-70b\", api_key=os.getenv(\"GROQ_API_KEY\"))\n"
   ]
  },
  {
   "cell_type": "code",
   "execution_count": 8,
   "metadata": {},
   "outputs": [
    {
     "data": {
      "text/plain": [
       "AIMessage(content=\"<think>\\nAlright, so I need to figure out what the capital of Andhra Pradesh is. Hmm, I'm not super familiar with Indian states, but I think I've heard something about this before. Let me try to piece it together.\\n\\nFirst off, Andhra Pradesh is a state in India. I remember that India has a lot of states, each with its own capital. I think some of the more well-known ones are like Mumbai, Delhi, Bangalore, but those are cities in different states. So, Andhra Pradesh must have its own capital city.\\n\\nI recall that in recent years, there was some news about a new capital being developed in Andhra Pradesh. I think the name Amaravati comes to mind. Wasn't that supposed to be the new capital? But I also remember hearing that there were some issues or maybe a change in plans. Maybe the capital was shifted or something?\\n\\nWait, before Amaravati, wasn't Hyderabad the capital? But then I think Hyderabad became the capital of another state. Oh right, when Telangana was formed from Andhra Pradesh in 2014, Hyderabad became the joint capital for both Andhra Pradesh and Telangana for a certain period. So, after that, Andhra Pradesh needed a new capital.\\n\\nSo, they decided to build a new city called Amaravati as the capital. But I've heard that the development faced some problems, maybe funding issues or political changes. I think the current government might have put some projects on hold or shifted focus. So, is Amaravati still the capital, or is it still Hyderabad?\\n\\nWait, no, Hyderabad was only the joint capital temporarily. Now, I think Andhra Pradesh has three capitals to spread development. I've heard terms like Amaravati, Visakhapatnam, and Kurnool. Amaravati was the legislative capital, Visakhapatnam the executive, and Kurnool the judicial. So, maybe Amaravati is still considered the capital, but functions are distributed.\\n\\nBut I'm not entirely sure. I should verify. Let me think about the timeline. Telangana was formed in 2014, so Andhra Pradesh lost Hyderabad as its exclusive capital. Then, the plan was to develop Amaravati as the new capital. But in recent years, maybe around 2019 or 2020, the government decided to have three capitals instead of one. So, Amaravati, Visakhapatnam, and Kurnool each host different branches of government.\\n\\nSo, in that case, Amaravati is still the capital, but it's part of a three-capital system. Or maybe the capital is now considered to be spread across these three cities. I'm a bit confused about whether Amaravati is the sole capital or if all three are capitals in different capacities.\\n\\nI think the official line is that Amaravati is the capital, but the government functions are decentralized. So, for administrative purposes, Visakhapatnam might serve as the executive capital, Kurnool as the judicial, and Amaravati as the legislative. So, in that sense, Amaravati remains the capital, but the state functions are spread out.\\n\\nBut I'm not 100% certain. Maybe the situation is still evolving, and there have been changes in the government's plans. I should check if there's been any recent updates. However, based on what I know up until now, Amaravati was designated as the capital after Hyderabad, even though the development faced some setbacks.\\n\\nSo, putting it all together, I think the capital of Andhra Pradesh is Amaravati, even though it's part of a three-capital system with Visakhapatnam and Kurnool handling executive and judicial functions respectively. But I'm not entirely sure if Amaravati is fully functional as the capital yet, given the developmental challenges.\\n</think>\\n\\nThe capital of Andhra Pradesh is Amaravati, which serves as the legislative capital. As part of a decentralization effort, the state also designates Visakhapatnam as the executive capital and Kurnool as the judicial capital. This three-capital system was implemented to distribute development across the state, although Amaravati remains the primary capital.\", additional_kwargs={}, response_metadata={'token_usage': {'completion_tokens': 858, 'prompt_tokens': 11, 'total_tokens': 869, 'completion_time': 3.735617852, 'prompt_time': 0.000569879, 'queue_time': 0.052822601999999996, 'total_time': 3.7361877310000002}, 'model_name': 'deepseek-r1-distill-llama-70b', 'system_fingerprint': 'fp_1bbe7845ec', 'service_tier': 'on_demand', 'finish_reason': 'stop', 'logprobs': None}, id='run--7ce85810-4c79-4593-a3b0-f39535537b26-0', usage_metadata={'input_tokens': 11, 'output_tokens': 858, 'total_tokens': 869})"
      ]
     },
     "execution_count": 8,
     "metadata": {},
     "output_type": "execute_result"
    }
   ],
   "source": [
    "llm.invoke(\"What is the capital of Andhra Pradesh\")"
   ]
  },
  {
   "cell_type": "code",
   "execution_count": 19,
   "metadata": {},
   "outputs": [],
   "source": [
    "from langchain_google_genai import ChatGoogleGenerativeAI\n",
    "os.environ[\"GOOGLE_API_KEY\"] = os.getenv(\"GOOGLE_API_KEY\")\n",
    "llm = ChatGoogleGenerativeAI(model=\"gemini-1.5-flash\")\n"
   ]
  },
  {
   "cell_type": "code",
   "execution_count": 20,
   "metadata": {},
   "outputs": [
    {
     "data": {
      "text/plain": [
       "AIMessage(content='AI, or Artificial Intelligence, is the simulation of human intelligence processes by machines, especially computer systems.  These processes include learning (acquiring information and rules for using the information), reasoning (using rules to reach approximate or definite conclusions), and self-correction.', additional_kwargs={}, response_metadata={'prompt_feedback': {'block_reason': 0, 'safety_ratings': []}, 'finish_reason': 'STOP', 'model_name': 'gemini-1.5-flash', 'safety_ratings': []}, id='run--d4338f1a-72f2-4668-80f1-1c18f166de5a-0', usage_metadata={'input_tokens': 7, 'output_tokens': 53, 'total_tokens': 60, 'input_token_details': {'cache_read': 0}})"
      ]
     },
     "execution_count": 20,
     "metadata": {},
     "output_type": "execute_result"
    }
   ],
   "source": [
    "llm.invoke(\"Explain the concept of AI briefly?\")"
   ]
  },
  {
   "cell_type": "code",
   "execution_count": 15,
   "metadata": {},
   "outputs": [
    {
     "name": "stderr",
     "output_type": "stream",
     "text": [
      "c:\\Users\\Administrator\\Desktop\\Likith_Nithin_Project\\MindMate-AI\\.venv\\Lib\\site-packages\\tqdm\\auto.py:21: TqdmWarning: IProgress not found. Please update jupyter and ipywidgets. See https://ipywidgets.readthedocs.io/en/stable/user_install.html\n",
      "  from .autonotebook import tqdm as notebook_tqdm\n"
     ]
    }
   ],
   "source": [
    "from langchain_huggingface import ChatHuggingFace, HuggingFaceEndpoint\n",
    "os.environ[\"HUGGINGFACEHUB_API_TOKEN\"] = os.getenv(\"HF_TOKEN\")\n",
    "llm = HuggingFaceEndpoint(\n",
    "    repo_id=\"meta-llama/Meta-Llama-3-8B-Instruct\",\n",
    "    task=\"text-generation\",\n",
    "    temperature=0.5,\n",
    "    max_new_tokens=50,\n",
    ")\n",
    "\n",
    "chat = ChatHuggingFace(llm=llm)"
   ]
  },
  {
   "cell_type": "code",
   "execution_count": 17,
   "metadata": {},
   "outputs": [
    {
     "data": {
      "text/plain": [
       "\"**Machine Learning (ML) Overview**\\n\\nMachine Learning is a subfield of Artificial Intelligence (AI) that enables computers to learn from data without being explicitly programmed. It's a type of algorithm that allows systems to improve their performance on a task by analyzing and interpreting data.\\n\\n**Key Concepts:**\\n\\n1. **Data**: ML relies on large datasets to learn and make predictions or decisions.\\n2. **Model**: A mathematical representation of the relationships between data, used to make predictions or decisions.\\n3. **Training**: The process of adjusting the model's parameters to fit the data, using algorithms like gradient descent or stochastic gradient descent.\\n4. **Testing**: Evaluating the model's performance on a separate dataset to ensure its accuracy and effectiveness.\\n5. **Prediction**: Using the learned model to make predictions or decisions on new, unseen data.\\n\\n**Types of Machine Learning:**\\n\\n1. **Supervised Learning**: The model is trained on labeled data to learn the relationship between inputs and outputs.\\n2. **Unsupervised Learning**: The model is trained on unlabeled data to identify patterns or relationships.\\n3. **Reinforcement Learning**: The model learns through trial and error by interacting with an environment.\\n\\n**Real-World Applications:**\\n\\n1. **Image Recognition**: Facial recognition, object detection, and image classification.\\n2. **Natural Language Processing**: Sentiment analysis, language translation, and text summarization.\\n3. **Recommendation Systems**: Personalized product recommendations and content suggestion.\\n4. **Predictive Maintenance**: Predicting equipment failures and reducing downtime.\\n5. **Self-Driving Cars**: Autonomous vehicles that can navigate and make decisions based on sensor data.\\n\\nIn summary, Machine Learning is a powerful technology that enables computers to learn from data and make predictions or decisions without being explicitly programmed. Its applications are vast and diverse, and it continues to transform industries and improve our daily lives.\""
      ]
     },
     "execution_count": 17,
     "metadata": {},
     "output_type": "execute_result"
    }
   ],
   "source": [
    "chat.invoke(\"Explain the concept of Machine Learning briefly?\").content"
   ]
  },
  {
   "cell_type": "code",
   "execution_count": null,
   "metadata": {},
   "outputs": [],
   "source": []
  }
 ],
 "metadata": {
  "kernelspec": {
   "display_name": ".venv",
   "language": "python",
   "name": "python3"
  },
  "language_info": {
   "codemirror_mode": {
    "name": "ipython",
    "version": 3
   },
   "file_extension": ".py",
   "mimetype": "text/x-python",
   "name": "python",
   "nbconvert_exporter": "python",
   "pygments_lexer": "ipython3",
   "version": "3.13.3"
  }
 },
 "nbformat": 4,
 "nbformat_minor": 2
}
