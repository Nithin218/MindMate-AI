{
 "cells": [
  {
   "cell_type": "markdown",
   "metadata": {},
   "source": [
    "# MindMateAI Testings"
   ]
  },
  {
   "cell_type": "code",
   "execution_count": 1,
   "metadata": {},
   "outputs": [
    {
     "data": {
      "text/plain": [
       "'c:\\\\Users\\\\Administrator\\\\Desktop\\\\Likith_Nithin_Project\\\\MindMate-AI\\\\research'"
      ]
     },
     "execution_count": 1,
     "metadata": {},
     "output_type": "execute_result"
    }
   ],
   "source": [
    "import os\n",
    "%pwd"
   ]
  },
  {
   "cell_type": "code",
   "execution_count": 2,
   "metadata": {},
   "outputs": [],
   "source": [
    "os.chdir(\"../\")"
   ]
  },
  {
   "cell_type": "code",
   "execution_count": 3,
   "metadata": {},
   "outputs": [
    {
     "data": {
      "text/plain": [
       "'c:\\\\Users\\\\Administrator\\\\Desktop\\\\Likith_Nithin_Project\\\\MindMate-AI'"
      ]
     },
     "execution_count": 3,
     "metadata": {},
     "output_type": "execute_result"
    }
   ],
   "source": [
    "%pwd"
   ]
  },
  {
   "cell_type": "code",
   "execution_count": 5,
   "metadata": {},
   "outputs": [],
   "source": [
    "from langchain_groq import ChatGroq\n",
    "import os\n",
    "from dotenv import load_dotenv\n",
    "load_dotenv()\n",
    "os.environ[\"GROQ_API_KEY\"] = os.getenv(\"GROQ_API_KEY\")"
   ]
  },
  {
   "cell_type": "code",
   "execution_count": 6,
   "metadata": {},
   "outputs": [],
   "source": [
    "import os\n",
    "llm = ChatGroq(model=\"deepseek-r1-distill-llama-70b\", api_key=os.getenv(\"GROQ_API_KEY\"))\n"
   ]
  },
  {
   "cell_type": "code",
   "execution_count": 7,
   "metadata": {},
   "outputs": [
    {
     "data": {
      "text/plain": [
       "AIMessage(content=\"<think>\\nOkay, so I need to figure out what the capital of Andhra Pradesh is. Hmm, I'm not entirely sure, but I'll try to work it out step by step.\\n\\nFirst, I know that Andhra Pradesh is a state in India. I remember that India has a lot of states, each with their own capitals. I think some of the more well-known state capitals include Mumbai for Maharashtra, Bangalore for Karnataka, and Chennai for Tamil Nadu. But Andhra Pradesh isn't one I hear about as often, so I'm a bit fuzzy on its capital.\\n\\nWait, I think I've heard the name Hyderabad come up a lot. Isn't Hyderabad a major city in India? I believe it's known for its IT industry and maybe some historical sites. But I'm not certain if it's the capital of Andhra Pradesh. I recall that Hyderabad was the capital of a larger region before, maybe when Andhra Pradesh was part of a bigger state.\\n\\nOh, right! There was something about the formation of Telangana. I think in 2014, Telangana was split off from Andhra Pradesh to become a separate state. So, after that split, Hyderabad became the capital of Telangana. But what about Andhra Pradesh? Did it keep Hyderabad as its capital, or did it move elsewhere?\\n\\nI'm a bit confused here. If Hyderabad is now the capital of Telangana, then Andhra Pradesh must have a different capital. I think the new capital was supposed to be a new city. Was it Amaravati? That rings a bell. I remember hearing about Amaravati being developed as the new capital after the split. But I'm not entirely sure if it's fully functional yet or if it's still in development.\\n\\nWait, there's also something about Visakhapatnam being an important city in Andhra Pradesh. Maybe that's a major city, but I don't think it's the capital. I think the capital is specifically Amaravati. Let me try to piece this together.\\n\\nSo, before 2014, Andhra Pradesh included both what is now Telangana and the remaining Andhra Pradesh. Hyderabad was the capital of the undivided state. After the bifurcation, Telangana took Hyderabad as its capital. Andhra Pradesh needed a new capital, so they decided to build a new city called Amaravati. However, I think the development of Amaravati has faced some issues, and I'm not sure if the government has fully moved there yet.\\n\\nI remember reading that there were plans to make Amaravati a world-class city with modern infrastructure, but maybe due to political changes or funding issues, the progress has been slow. So, perhaps Hyderabad is still serving as the de facto capital for Andhra Pradesh, or maybe they have a temporary capital elsewhere.\\n\\nWait, no, I think Andhra Pradesh has been using Hyderabad as its capital temporarily, but the plan is to shift to Amaravati eventually. But I'm not certain about the current status. Maybe in recent years, there have been updates. I think the government might have considered other cities like Visakhapatnam or Vijayawada as possible capitals, but I believe the official decision was to have Amaravati as the capital.\\n\\nTo summarize, I think the capital of Andhra Pradesh is Amaravati, but it's still under development. Hyderabad, being the former capital, might still be hosting some government functions temporarily. However, I'm not entirely sure if Amaravati has been officially declared the capital or if it's still in the process.\\n\\nI should probably double-check this information. From what I remember, the Andhra Pradesh Reorganisation Act of 2014 led to the formation of Telangana, with Hyderabad as its capital. Andhra Pradesh was to have a new capital, which was planned to be Amaravati. However, due to various reasons, including political changes and financial constraints, the development of Amaravati has been slow. In 2019, there were discussions about three capitals for Andhra Pradesh—Amaravati, Visakhapatnam, and Vijayawada—but I'm not sure if that plan went through.\\n\\nSo, putting it all together, I think the official capital is Amaravati, even if the transition is still ongoing. Hyderabad, while historically significant and the capital before the split, is now the capital of Telangana.\\n</think>\\n\\nThe capital of Andhra Pradesh is Amaravati. After the bifurcation of Andhra Pradesh in 2014, which led to the creation of Telangana with Hyderabad as its capital, Andhra Pradesh planned to develop Amaravati as its new capital. Although the development of Amaravati has faced delays and challenges, it remains the officially designated capital. Hyderabad, while historically the capital of the undivided state, is now the capital of Telangana.\", additional_kwargs={}, response_metadata={'token_usage': {'completion_tokens': 1000, 'prompt_tokens': 11, 'total_tokens': 1011, 'completion_time': 4.699984796, 'prompt_time': 0.00056835, 'queue_time': 8.004515819, 'total_time': 4.700553146}, 'model_name': 'deepseek-r1-distill-llama-70b', 'system_fingerprint': 'fp_1bbe7845ec', 'service_tier': 'on_demand', 'finish_reason': 'stop', 'logprobs': None}, id='run--52690c97-086c-49c4-a509-f38c6b8c4671-0', usage_metadata={'input_tokens': 11, 'output_tokens': 1000, 'total_tokens': 1011})"
      ]
     },
     "execution_count": 7,
     "metadata": {},
     "output_type": "execute_result"
    }
   ],
   "source": [
    "llm.invoke(\"What is the capital of Andhra Pradesh\")"
   ]
  },
  {
   "cell_type": "code",
   "execution_count": null,
   "metadata": {},
   "outputs": [],
   "source": []
  }
 ],
 "metadata": {
  "kernelspec": {
   "display_name": "MindMate-AI",
   "language": "python",
   "name": "python3"
  },
  "language_info": {
   "codemirror_mode": {
    "name": "ipython",
    "version": 3
   },
   "file_extension": ".py",
   "mimetype": "text/x-python",
   "name": "python",
   "nbconvert_exporter": "python",
   "pygments_lexer": "ipython3",
   "version": "3.13.3"
  }
 },
 "nbformat": 4,
 "nbformat_minor": 2
}
