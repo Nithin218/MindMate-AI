{
 "cells": [
  {
   "cell_type": "markdown",
   "metadata": {},
   "source": [
    "# MindMateAI Testings"
   ]
  },
  {
   "cell_type": "code",
   "execution_count": 1,
   "metadata": {},
   "outputs": [
    {
     "data": {
      "text/plain": [
       "'/Users/nagireddynithinkumarreddy/Desktop/Nithin-Likith-Project/MindMate-AI/research'"
      ]
     },
     "execution_count": 1,
     "metadata": {},
     "output_type": "execute_result"
    }
   ],
   "source": [
    "import os\n",
    "%pwd"
   ]
  },
  {
   "cell_type": "code",
   "execution_count": 2,
   "metadata": {},
   "outputs": [],
   "source": [
    "os.chdir(\"../\")"
   ]
  },
  {
   "cell_type": "code",
   "execution_count": 3,
   "metadata": {},
   "outputs": [
    {
     "data": {
      "text/plain": [
       "'/Users/nagireddynithinkumarreddy/Desktop/Nithin-Likith-Project/MindMate-AI'"
      ]
     },
     "execution_count": 3,
     "metadata": {},
     "output_type": "execute_result"
    }
   ],
   "source": [
    "%pwd"
   ]
  },
  {
   "cell_type": "code",
   "execution_count": 4,
   "metadata": {},
   "outputs": [],
   "source": [
    "from langchain_groq import ChatGroq\n",
    "import os\n",
    "os.environ[\"GROQ_API_KEY\"] = os.getenv(\"GROQ_API_KEY\")"
   ]
  },
  {
   "cell_type": "code",
   "execution_count": 9,
   "metadata": {},
   "outputs": [],
   "source": [
    "import os\n",
    "llm = ChatGroq(model=\"deepseek-r1-distill-llama-70b\", api_key=os.getenv(\"GROQ_API_KEY\"))\n"
   ]
  },
  {
   "cell_type": "code",
   "execution_count": 10,
   "metadata": {},
   "outputs": [
    {
     "data": {
      "text/plain": [
       "AIMessage(content=\"<think>\\nOkay, so I need to figure out the capital of Andhra Pradesh. I'm not exactly sure, but I'll try to work through it step by step.\\n\\nFirst, I know that Andhra Pradesh is a state in India. I've heard that India has several states, each with its own capital. I remember that some states have their capitals named after the state, like Mumbai is the capital of Maharashtra, but I don't think that's the case here.\\n\\nWait, no, actually, Mumbai isn't the capital of Maharashtra. The capital of Maharashtra is Mumbai, but sometimes people get confused because Mumbai is a major city. Anyway, back to Andhra Pradesh.\\n\\nI think the capital used to be Hyderabad, but then something changed. I recall that Telangana was separated from Andhra Pradesh a few years back. So maybe after the split, the capital changed. Let me think about that.\\n\\nSo before 2014, Andhra Pradesh had Hyderabad as its capital. Then in 2014, Telangana became a separate state, and Hyderabad became its capital as well. But I think Hyderabad was made the joint capital for both states for a certain period. So, does Andhra Pradesh have a new capital now?\\n\\nI remember hearing about Amaravati being the new capital. Amaravati was under construction as the new capital of Andhra Pradesh after the bifurcation. But I'm not entirely sure if it's fully functional yet or if there are any changes.\\n\\nWait, I think there was some political change where the government decided to have three capitals: Amaravati, Visakhapatnam, and Kurnool. But I'm not certain about this. Maybe it's a recent development, so I should check if that's still the case.\\n\\nAlternatively, maybe the capital was moved to Vijayawada. I'm a bit confused because I've heard different names being mentioned as the capital. Let me try to piece this together.\\n\\nSo, to summarize: Before 2014, Hyderabad was the capital. After Telangana was formed, Andhra Pradesh needed a new capital. Amaravati was planned as the new capital, but there were issues with its development. Then, the government proposed having three capitals, but I'm not sure if that's been finalized.\\n\\nI think the current situation is that Hyderabad is still serving as the capital for both Telangana and Andhra Pradesh, but Andhra Pradesh is in the process of transitioning to Amaravati. However, there might be some uncertainty or political decisions affecting this.\\n\\nSo, putting it all together, the capital of Andhra Pradesh is Amaravati, but it's still in development, and Hyderabad is the de facto capital for now. But I'm not entirely sure if the transition is complete or if there's a shared arrangement.\\n\\nI should probably look up the most recent information to confirm. But based on what I remember, Amaravati is the designated capital, even if the transition isn't fully completed yet.\\n\\nWait, another thought: Sometimes states have multiple cities serving as capitals for different branches, like executive, legislative, and judicial. So maybe Andhra Pradesh has different cities for different purposes, but I'm not certain.\\n\\nIn any case, the main point is that after the split from Telangana, Andhra Pradesh's capital is Amaravati, although the transition is ongoing, and Hyderabad might still be in use temporarily.\\n\\nI think that's the best I can figure out without looking it up. So, the answer should be Amaravati, but with the note that Hyderabad is also currently serving as the capital until the transition is complete.\\n</think>\\n\\nThe capital of Andhra Pradesh is Amaravati. However, it's important to note that the transition from Hyderabad to Amaravati is ongoing. Hyderabad currently serves as the joint capital for both Andhra Pradesh and Telangana, as per the Andhra Pradesh Reorganisation Act of 2014, for a period of ten years. Amaravati is under development to become the new capital, but the process has faced several challenges and delays. Therefore, while Amaravati is the designated capital, Hyderabad remains the de facto capital during this transitional phase.\", additional_kwargs={}, response_metadata={'token_usage': {'completion_tokens': 852, 'prompt_tokens': 11, 'total_tokens': 863, 'completion_time': 4.070560433, 'prompt_time': 0.000599552, 'queue_time': 0.056856412999999995, 'total_time': 4.071159985}, 'model_name': 'deepseek-r1-distill-llama-70b', 'system_fingerprint': 'fp_76307ac09b', 'service_tier': 'on_demand', 'finish_reason': 'stop', 'logprobs': None}, id='run--2d8f8429-8566-4570-8521-9a9d9e175248-0', usage_metadata={'input_tokens': 11, 'output_tokens': 852, 'total_tokens': 863})"
      ]
     },
     "execution_count": 10,
     "metadata": {},
     "output_type": "execute_result"
    }
   ],
   "source": [
    "llm.invoke(\"What is the capital of Andhra Pradesh\")"
   ]
  },
  {
   "cell_type": "code",
   "execution_count": 42,
   "metadata": {},
   "outputs": [],
   "source": []
  },
  {
   "cell_type": "code",
   "execution_count": null,
   "metadata": {},
   "outputs": [],
   "source": []
  },
  {
   "cell_type": "code",
   "execution_count": null,
   "metadata": {},
   "outputs": [],
   "source": []
  },
  {
   "cell_type": "code",
   "execution_count": null,
   "metadata": {},
   "outputs": [],
   "source": []
  }
 ],
 "metadata": {
  "kernelspec": {
   "display_name": "MindMate-AI",
   "language": "python",
   "name": "python3"
  },
  "language_info": {
   "codemirror_mode": {
    "name": "ipython",
    "version": 3
   },
   "file_extension": ".py",
   "mimetype": "text/x-python",
   "name": "python",
   "nbconvert_exporter": "python",
   "pygments_lexer": "ipython3",
   "version": "3.13.5"
  }
 },
 "nbformat": 4,
 "nbformat_minor": 2
}
